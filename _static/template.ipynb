{
 "cells": [
  {
   "cell_type": "markdown",
   "id": "749b0ddf",
   "metadata": {
    "tags": []
   },
   "source": [
    "# 101.1. A template tutorial notebook\n",
    "\n",
    "<img align=\"left\" src = https://noirlab.edu/public/media/archives/logos/svg/logo250.svg width=250 style=\"background-color:white; padding:10px\" alt=\"Rubin Observatory logo, a graphical representation of turning stars into data.\">\n",
    "\n",
    "<br>\n",
    "For the Rubin Science Platform at data.lsst.cloud. <br>\n",
    "LSST Science Pipelines version: Weekly <i>yyyy_xx</i> <br>\n",
    "Container Size: <i>size here</i> <br>\n",
    "Data Release: <i>DPX or DRX</i> <br>\n",
    "Last verified to run: <i>yyyy-mm-dd</i> <br>"
   ]
  },
  {
   "cell_type": "markdown",
   "id": "2d9cd09b-d5c4-4610-993b-711bdc9bd80e",
   "metadata": {},
   "source": [
    "***How to use this template.*** \n",
    "\n",
    "_Most of the text in italics in this template is instructional and should be removed or replaced, as appropriate._ \n",
    "\n",
    "_Most of the text in_ **bold** _or_ regular _should either stay as-is, or is an example of what a real tutorial would say._\n",
    "\n",
    "_Use the <a href=\"https://rtn-045.lsst.io\">CST's Guidelines for Tutorial Notebooks</a>._\n",
    "\n",
    "_While developing, execute the code cell below to use flake8 to ensure code cells conform to standards._\n",
    "\n",
    "_When the tutorial is done, delete this cell and the one below._"
   ]
  },
  {
   "cell_type": "code",
   "execution_count": null,
   "id": "7acc79a4-8530-42d9-96e5-b7acb4397864",
   "metadata": {},
   "outputs": [],
   "source": [
    "%load_ext pycodestyle_magic\n",
    "%flake8_on\n",
    "import logging\n",
    "logging.getLogger(\"flake8\").setLevel(logging.FATAL)"
   ]
  },
  {
   "cell_type": "markdown",
   "id": "9da1a210-d858-42fe-8591-570965b8be1a",
   "metadata": {},
   "source": [
    "**Learning objective:** _Very brief description of notebook's learning objective._\n",
    "\n",
    "**LSST data products:** _List the catalogs and images used._\n",
    "\n",
    "**Packages:** _List the python packages that are relevant to the learning objective. E.g., include afwDisplay and lsst.daf.butler for a notebook about retrieving and displaying images. E.g., standard supporting packages like os, glob, or numpy usually don't need to be listed here._\n",
    "\n",
    "**Credit:**\n",
    "_E.g., \"Originally developed by\" or \"Based on notebooks developed by\" and then people's names, including journal article or software release citations if appropriate._\n",
    "Please consider acknowledging them if this notebook is used for the preparation of journal articles, software releases, or other notebooks.\n",
    "\n",
    "**Get Support:**\n",
    "Everyone is encouraged to ask questions or raise issues in the \n",
    "<a href=\"https://community.lsst.org/c/support\">Support Category</a> \n",
    "of the Rubin Community Forum.\n",
    "Rubin staff will respond to all questions posted there."
   ]
  },
  {
   "attachments": {},
   "cell_type": "markdown",
   "id": "cfc73be0",
   "metadata": {},
   "source": [
    "## 1. Introduction\n",
    "\n",
    "_Provide a light narrative about this notebook, e.g., \"This notebook demonstrates...\"._\n",
    "\n",
    "_Cite or link to any external information, documentation, or papers._\n",
    "\n",
    "_Describe key scientific concepts._\n",
    "\n",
    "**Related tutorials:** _If applicable, mention other relevant tutorials by name but do not link to them.\n",
    "Tutorials evolve continuously, there is no linkchecker for the notebook repo, and tutorial hotlinks will go stale quickly. It is not necessary to mention the preceding/subsequent tutorials in the same series as this one - those are trivial for the user to find. But do use this section to mention related tutorials in other series._"
   ]
  },
  {
   "cell_type": "markdown",
   "id": "dc36f107",
   "metadata": {},
   "source": [
    "### 1.1. Import packages\n",
    "\n",
    "_All package imports must be done in the first code cell._\n",
    "\n",
    "_Do not import packages unless they are used._\n",
    "\n",
    "_Describe the packages being imported, and provide external links to package documentation._"
   ]
  },
  {
   "cell_type": "markdown",
   "id": "ccb4fe61-835a-47ac-a691-e086ce766e79",
   "metadata": {},
   "source": [
    "Import `numpy`, a fundamental package for scientific computing with arrays in Python\n",
    "(<a href=\"https://numpy.org\">numpy.org</a>), and\n",
    "`matplotlib`, a comprehensive library for data visualization\n",
    "(<a href=\"https://matplotlib.org/\">matplotlib.org</a>; \n",
    "<a href=\"https://matplotlib.org/stable/gallery/index.html\">matplotlib gallery</a>).\n",
    "\n",
    "From the `lsst` package, import modules for accessing the Table Access Protocol (TAP) service,\n",
    "the butler, and image display functions from the LSST Science Pipelines (<a href=\"https://pipelines.lsst.io/\">pipelines.lsst.io</a>)."
   ]
  },
  {
   "cell_type": "code",
   "execution_count": null,
   "id": "cddc1458",
   "metadata": {},
   "outputs": [],
   "source": [
    "import numpy as np\n",
    "import matplotlib.pyplot as plt\n",
    "from lsst.rsp import get_tap_service, retrieve_query\n",
    "import lsst.daf.butler as dafButler\n",
    "import lsst.afw.display as afwDisplay"
   ]
  },
  {
   "cell_type": "markdown",
   "id": "c217adff-25ed-4fce-95e7-8aa04630f6cc",
   "metadata": {},
   "source": [
    "### 1.2. Define parameters and functions\n",
    "\n",
    "_All functions and global parameters must be defined here._\n",
    "\n",
    "_Do not define a function unless it will be used multiple times throughout the notebook; it is better for users to see code in context._\n",
    "\n",
    "_If no functions/parameters are defined, it is ok to rename or remove this section, as appropriate._\n",
    "\n",
    "_It is also ok to use sub-sub-sections if many parameters or functions are needed.\n",
    "E.g., \"#### 1.2.1. Define global cosmological parameter values\" or \"#### 1.2.2. Define a function to make an image cutout\"._\n",
    "\n",
    "_For example, one or both of the following color definitions should be used for plotting._\n",
    "_Instances of the butler or TAP services should be created in this section._\n",
    "\n",
    "Define parameters to use colorblind-friendly colors with `matplotlib`."
   ]
  },
  {
   "cell_type": "code",
   "execution_count": null,
   "id": "ecc6cb66-ec5c-47c1-bcd0-4592a32179cd",
   "metadata": {},
   "outputs": [],
   "source": [
    "plt.style.use('tableau-colorblind10')"
   ]
  },
  {
   "cell_type": "markdown",
   "id": "7893b850-3a77-4ffb-b01a-6f89bfdd228a",
   "metadata": {},
   "source": [
    "Define colors, symbols, and linestyles to represent the six LSST filters, $ugrizy$."
   ]
  },
  {
   "cell_type": "code",
   "execution_count": null,
   "id": "c5a16260-32c0-4896-87b3-e5b251f45027",
   "metadata": {},
   "outputs": [],
   "source": [
    "filter_names = ['u', 'g', 'r', 'i', 'z', 'y']\n",
    "filter_colors = {'u': '#0c71ff', 'g': '#49be61', 'r': '#c61c00',\n",
    "                 'i': '#ffc200', 'z': '#f341a2', 'y': '#5d0000'}\n",
    "filter_symbols = {'u': 'o', 'g': '^', 'r': 'v', 'i': 's', 'z': '*', 'y': 'p'}\n",
    "filter_linestyles = {'u': '--', 'g': ':', 'r': '-', 'i': '-.',\n",
    "                     'z': (0, (3, 5, 1, 5, 1, 5)), 'y': (0, (3, 1, 1, 1))}"
   ]
  },
  {
   "cell_type": "markdown",
   "id": "d3383f6e-8c34-4cb7-aa2f-12e9b7f8efc0",
   "metadata": {
    "execution": {
     "iopub.execute_input": "2025-02-08T21:21:31.996887Z",
     "iopub.status.busy": "2025-02-08T21:21:31.996219Z",
     "iopub.status.idle": "2025-02-08T21:21:32.003097Z",
     "shell.execute_reply": "2025-02-08T21:21:32.001836Z",
     "shell.execute_reply.started": "2025-02-08T21:21:31.996858Z"
    }
   },
   "source": [
    "Get an instance of the TAP service, and assert that it exists."
   ]
  },
  {
   "cell_type": "code",
   "execution_count": null,
   "id": "e8184089-8a3e-4666-a194-5362a8faa541",
   "metadata": {},
   "outputs": [],
   "source": [
    "service = get_tap_service(\"tap\")\n",
    "assert service is not None"
   ]
  },
  {
   "cell_type": "markdown",
   "id": "1e1bf006-af51-4194-8501-5c9c93d63400",
   "metadata": {},
   "source": [
    "_Functions must have a preceding markdown cell with a brief explanation and they must contain docstrings formatted as in this example._\n",
    "\n",
    "Define a function to calculate the semi-major axis of an asteroid's orbit."
   ]
  },
  {
   "cell_type": "code",
   "execution_count": null,
   "id": "9fbe0e5c-59ab-400f-b024-beed100391d5",
   "metadata": {},
   "outputs": [],
   "source": [
    "def calc_semimajor_axis(q, e):\n",
    "    \"\"\"\n",
    "    Given a perihelion distance and orbital eccentricity,\n",
    "      calculate the semi-major axis of the orbit.\n",
    "\n",
    "    Parameters\n",
    "    ----------\n",
    "    q: float\n",
    "        Distance at perihelion, in au.\n",
    "    e: float\n",
    "        Orbital eccentricity.\n",
    "\n",
    "    Returns\n",
    "    -------\n",
    "    a: float\n",
    "        Semi-major axis of the orbit, in au.\n",
    "        q = a(1-e), so a = q/(1-e)\n",
    "    \"\"\"\n",
    "\n",
    "    return q / (1.0 - e)"
   ]
  },
  {
   "cell_type": "markdown",
   "id": "16eeb034-6728-406e-bfc8-7b875c3a9416",
   "metadata": {},
   "source": [
    "## 2. Section heading\n",
    "\n",
    "_Use numbers for sections, sub-sections, and sub-sub-sections to enable referencing.\n",
    "E.g., so that users can say \"I'm having trouble with the second code cell in Section 2.3.\"_\n",
    "\n",
    "_Use section titles that actively describe what is being done, e.g., \"Create a color-magnitude diagram\".\n",
    "Do not use ambiguous section headings like \"Plot\".\n",
    "Descriptive headings make the auto-generated table of contents easier for users to navigate._"
   ]
  },
  {
   "cell_type": "markdown",
   "id": "19f67659-29ec-4fd2-af4d-f30b4eabbebd",
   "metadata": {
    "execution": {
     "iopub.execute_input": "2025-02-07T22:18:07.111851Z",
     "iopub.status.busy": "2025-02-07T22:18:07.111515Z",
     "iopub.status.idle": "2025-02-07T22:18:07.117410Z",
     "shell.execute_reply": "2025-02-07T22:18:07.116511Z",
     "shell.execute_reply.started": "2025-02-07T22:18:07.111828Z"
    }
   },
   "source": [
    "### 2.1. Warnings\n",
    "\n",
    "_Use indented text to attract users attention to common mistakes, known warnings, etc._\n",
    "\n",
    "> **Warning:** *use indented text preceded with* ***Warning*** *to attract attention to particular information.*\n",
    "\n",
    "_If a code cell produces a warning or error that is safe to ignore, it must be preceded with an explanation.\n",
    "Here is an example._\n",
    "\n",
    "> **Warning:** Pink \"RuntimeWarning\" errors will appear due to a few of the measured fluxes in the denominator being zero. It is safe to ignore this warning in the context of this demonstration, which is not doing any scientific analysis."
   ]
  },
  {
   "attachments": {
    "b512e6a5-d5f8-4ae3-bde5-1b7177a29663.png": {
     "image/png": "[encoded data removed]"
    }
   },
   "cell_type": "markdown",
   "id": "ec51ac0b",
   "metadata": {
    "tags": []
   },
   "source": [
    "#### 2.1.1. Images and plots\n",
    "\n",
    "_Drag-and-drop to embed images.\n",
    "The code below is automatically generated by drag-and-drop.\n",
    "All figures must have captions: both embedded and code-generated images.\n",
    "Format captions as shown._\n",
    "\n",
    "![example.png](attachment:b512e6a5-d5f8-4ae3-bde5-1b7177a29663.png)\n",
    "\n",
    "> **Figure 1:** Value 2 as a function of Value 1 for Case A as black open circles and Case B as grey open triangles.\n",
    "> This figure shows that in Case B the power law has a higher exponent."
   ]
  },
  {
   "cell_type": "markdown",
   "id": "d2aefbc0-aa2c-4c56-86e3-cb692b00dd0e",
   "metadata": {},
   "source": [
    "#### 2.1.2. Provide instruction in the imperative mood\n",
    "\n",
    "_Jupyter Notebook tutorials alternate between markdown cells with instructional statements written in the imperative mood, and code cells to be executed by the user._\n",
    "\n",
    "_As an example, here is a set of markdown and code cells to execute an asynchronous TAP query._\n",
    "\n",
    "This ADQL query defined below is designed to retrieve the `coord_ra` and `coord_dec` columns for all `Object`s that are within 0.01 degrees of the coordinate defined by Right Ascension (RA) = 62 deg, and Declination (Dec) = -37 deg, and for which the `detect_isPrimary` flag is True (= 1).\n",
    "\n",
    "Create the `query` string."
   ]
  },
  {
   "cell_type": "code",
   "execution_count": null,
   "id": "ac98b7f0-aeef-439b-9642-e73bb38eef6a",
   "metadata": {},
   "outputs": [],
   "source": [
    "query = \"SELECT coord_ra, coord_dec \"\\\n",
    "        \"FROM dp02_dc2_catalogs.Object \"\\\n",
    "        \"WHERE CONTAINS(POINT('ICRS', coord_ra, coord_dec), \"\\\n",
    "        \"CIRCLE('ICRS', 62, -37, 0.01)) = 1 \"\\\n",
    "        \"AND detect_isPrimary = 1\""
   ]
  },
  {
   "cell_type": "markdown",
   "id": "c8acac0d-2e9c-45d0-9d64-819937f9579f",
   "metadata": {},
   "source": [
    "Submit the query as a job to the TAP service."
   ]
  },
  {
   "cell_type": "code",
   "execution_count": null,
   "id": "ff3badc9-752f-4aff-82e8-46284acc4c62",
   "metadata": {},
   "outputs": [],
   "source": [
    "job = service.submit_job(query)\n",
    "print('Job URL is', job.url)\n",
    "print('Job phase is', job.phase)"
   ]
  },
  {
   "cell_type": "markdown",
   "id": "93760f98-d2ef-41f2-9cf3-00230190b63b",
   "metadata": {},
   "source": [
    "Run the job and wait until the job phase is either \"COMPLETED\" or \"ERROR\", then print the job phase."
   ]
  },
  {
   "cell_type": "code",
   "execution_count": null,
   "id": "d1354e4c-6b49-42b4-a799-aa9287a2f553",
   "metadata": {},
   "outputs": [],
   "source": [
    "job.run()\n",
    "job.wait(phases=['COMPLETED', 'ERROR'])\n",
    "print('Job phase is', job.phase)"
   ]
  },
  {
   "cell_type": "markdown",
   "id": "4dd8fc78-3932-4b40-a41b-05027032623f",
   "metadata": {},
   "source": [
    "**Optional:** If the status returned was \"ERROR\", uncomment and execute this cell to print the error messages."
   ]
  },
  {
   "cell_type": "code",
   "execution_count": null,
   "id": "3f8f2cae-74ba-483c-a877-8887e73d6c26",
   "metadata": {},
   "outputs": [],
   "source": [
    "# job.raise_if_error()"
   ]
  },
  {
   "cell_type": "markdown",
   "id": "e9af2ae0-c0cc-42f8-97ea-e5342ebbf0a6",
   "metadata": {},
   "source": [
    "If the status returned was \"COMPLETED\", execute this cell to retrieve the query results as an `astropy` table using the `to_table` method, and assert that the table length is 173 as expected."
   ]
  },
  {
   "cell_type": "code",
   "execution_count": null,
   "id": "47a67878-40ad-4bf5-a928-a7920440f41c",
   "metadata": {},
   "outputs": [],
   "source": [
    "results = job.fetch_result().to_table()\n",
    "assert len(results) == 173"
   ]
  },
  {
   "cell_type": "markdown",
   "id": "557bbb99-3a37-4b15-ad6d-e86c6282866c",
   "metadata": {},
   "source": [
    "Save space in memory by deleting the job and the retrieved results."
   ]
  },
  {
   "cell_type": "code",
   "execution_count": null,
   "id": "7a093135-8747-41e5-a72e-c529205bb331",
   "metadata": {},
   "outputs": [],
   "source": [
    "job.delete()\n",
    "del results"
   ]
  },
  {
   "cell_type": "code",
   "execution_count": null,
   "id": "427ad26a-d650-4b4b-882d-59dbcaafb712",
   "metadata": {},
   "outputs": [],
   "source": []
  }
 ],
 "metadata": {
  "kernelspec": {
   "display_name": "LSST",
   "language": "python",
   "name": "lsst"
  },
  "language_info": {
   "codemirror_mode": {
    "name": "ipython",
    "version": 3
   },
   "file_extension": ".py",
   "mimetype": "text/x-python",
   "name": "python",
   "nbconvert_exporter": "python",
   "pygments_lexer": "ipython3",
   "version": "3.11.9"
  },
  "toc-autonumbering": false
 },
 "nbformat": 4,
 "nbformat_minor": 5
}
